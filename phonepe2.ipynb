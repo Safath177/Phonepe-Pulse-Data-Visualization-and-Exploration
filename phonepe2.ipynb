{
 "cells": [
  {
   "cell_type": "code",
   "execution_count": 3,
   "metadata": {},
   "outputs": [],
   "source": [
    "import pandas as pd\n",
    "import psycopg2\n",
    "import plotly.express as px\n",
    "import requests\n",
    "import json"
   ]
  },
  {
   "cell_type": "code",
   "execution_count": 4,
   "metadata": {},
   "outputs": [],
   "source": [
    "# Dataframe Creation\n",
    "\n",
    "db = psycopg2.connect(host = 'localhost',\n",
    "                      user = 'postgres',\n",
    "                      port = '5432',\n",
    "                      database = 'PhonePe',\n",
    "                      password = '1177')\n",
    "\n",
    "cursor = db.cursor()\n",
    "\n",
    "\n",
    "#aggregated_insurance_df\n",
    "\n",
    "cursor.execute(\"SELECT * FROM aggregated_insurance\")\n",
    "db.commit()\n",
    "table_agg_ins = cursor.fetchall()\n",
    "aggregated_insurance = pd.DataFrame(table_agg_ins,columns=(\"States\",\"Years\",\"Quarter\",\"Transaction_Type\",\"Transaction_Count\",\"Transaction_Amount\"))\n",
    "\n",
    "#aggregated_transaction_df\n",
    "\n",
    "cursor.execute(\"SELECT * FROM aggregated_transaction\")\n",
    "db.commit()\n",
    "table_agg_trans = cursor.fetchall()\n",
    "aggregated_transaction = pd.DataFrame(table_agg_trans,columns=(\"States\",\"Years\",\"Quarter\",\"Transaction_Type\",\"Transaction_Count\",\"Transaction_Amount\"))\n",
    "\n",
    "#aggregated_user_df\n",
    "\n",
    "cursor.execute(\"SELECT * FROM aggregated_user\")\n",
    "db.commit()\n",
    "table_agg_user = cursor.fetchall()\n",
    "aggregated_user = pd.DataFrame(table_agg_user,columns=(\"States\",\"Years\",\"Quarter\",\"brands\",\"Transaction_Count\",\"percentage\"))\n",
    "\n",
    "#map_insurance_df\n",
    "\n",
    "cursor.execute(\"SELECT * FROM map_insurance\")\n",
    "db.commit()\n",
    "table_map_ins = cursor.fetchall()\n",
    "map_insurance = pd.DataFrame(table_map_ins,columns=(\"States\",\"Years\",\"Quarter\",\"District\",\"Transaction_Count\",\"Transaction_Amount\"))\n",
    "\n",
    "#map_transaction_df\n",
    "\n",
    "cursor.execute(\"SELECT * FROM map_transaction\")\n",
    "db.commit()\n",
    "table_map_trans = cursor.fetchall()\n",
    "map_transaction = pd.DataFrame(table_map_trans,columns=(\"States\",\"Years\",\"Quarter\",\"District\",\"Transaction_Count\",\"Transaction_Amount\"))\n",
    "\n",
    "#map_user_df\n",
    "\n",
    "cursor.execute(\"SELECT * FROM map_user\")\n",
    "db.commit()\n",
    "table_map_user = cursor.fetchall()\n",
    "map_user = pd.DataFrame(table_map_user,columns=(\"States\",\"Years\",\"Quarter\",\"District\",\"Registered_Users\",\"App_Opens\"))\n",
    "\n",
    "#top_insurance_df\n",
    "\n",
    "cursor.execute(\"SELECT * FROM top_insurance\")\n",
    "db.commit()\n",
    "table_top_ins = cursor.fetchall()\n",
    "top_insurance = pd.DataFrame(table_top_ins,columns=(\"States\",\"Years\",\"Quarter\",\"Pincodes\",\"Transaction_Count\",\"Transaction_Amount\"))\n",
    "\n",
    "#top_transaction_df\n",
    "\n",
    "cursor.execute(\"SELECT * FROM top_transaction\")\n",
    "db.commit()\n",
    "table_top_trans = cursor.fetchall()\n",
    "top_transaction = pd.DataFrame(table_top_trans,columns=(\"States\",\"Years\",\"Quarter\",\"Pincodes\",\"Transaction_Count\",\"Transaction_Amount\"))\n",
    "\n",
    "#top_user_df\n",
    "\n",
    "cursor.execute(\"SELECT * FROM top_user\")\n",
    "db.commit()\n",
    "table_top_user = cursor.fetchall()\n",
    "top_user = pd.DataFrame(table_top_user,columns=(\"States\",\"Years\",\"Quarter\",\"Pincodes\",\"Registered_Users\"))\n",
    "\n"
   ]
  },
  {
   "cell_type": "code",
   "execution_count": 5,
   "metadata": {},
   "outputs": [],
   "source": [
    "# transaction based on year\n",
    "def Transaction_amount_count_year(df,year):\n",
    "    tacy = df[df['Years'] == year]\n",
    "    tacy.reset_index(drop=True,inplace=True)\n",
    "\n",
    "    tacy_gr = tacy.groupby(\"States\")[[\"Transaction_Count\",\"Transaction_Amount\"]].sum()\n",
    "    tacy_gr.reset_index(inplace=True)\n",
    "\n",
    "    amount_char = px.bar(tacy_gr,x=\"States\",y=\"Transaction_Amount\",title=f\"Transaction Amount for {year}\",\n",
    "                        color_discrete_sequence=px.colors.sequential.Bluered_r,height=650,width=600)\n",
    "    amount_char.show()\n",
    "\n",
    "    count_char = px.bar(tacy_gr,x=\"States\",y=\"Transaction_Count\",title=f\"Transaction Count for {year}\",\n",
    "                        color_discrete_sequence=px.colors.sequential.Bluered_r,height=650,width=600)\n",
    "    count_char.show()\n",
    "\n",
    "    map_url = \"https://gist.githubusercontent.com/jbrobst/56c13bbbf9d97d187fea01ca62ea5112/raw/e388c4cae20aa53cb5090210a42ebb9b765c0a36/india_states.geojson\"\n",
    "    res = requests.get(map_url)\n",
    "    res_data = json.loads(res.content)\n",
    "    state_name = []\n",
    "    for feature in res_data['features']:\n",
    "        state_name.append(feature['properties']['ST_NM'])\n",
    "    state_name.sort()\n",
    "\n",
    "    Ind_amount = px.choropleth(tacy_gr,geojson=res_data,locations=\"States\",featureidkey=\"properties.ST_NM\",\n",
    "                        color=\"Transaction_Amount\",color_continuous_scale=\"Rainbow\",\n",
    "                        range_color=(tacy_gr[\"Transaction_Amount\"].min(),tacy_gr[\"Transaction_Amount\"].max()),\n",
    "                        hover_name=\"States\",title=f\"Transaction Amount for {year}\",fitbounds=\"locations\",height=650,width=600)\n",
    "    Ind_amount.update_geos(visible = False)\n",
    "    Ind_amount.show()\n",
    "\n",
    "    Ind_count = px.choropleth(tacy_gr,geojson=res_data,locations=\"States\",featureidkey=\"properties.ST_NM\",\n",
    "                        color=\"Transaction_Count\",color_continuous_scale=\"Rainbow\",\n",
    "                        range_color=(tacy_gr[\"Transaction_Count\"].min(),tacy_gr[\"Transaction_Count\"].max()),\n",
    "                        hover_name=\"States\",title=f\"Transaction Count for {year}\",fitbounds=\"locations\",height=650,width=600)\n",
    "    Ind_count.update_geos(visible = False)\n",
    "    Ind_count.show()\n",
    "\n",
    "    return tacy"
   ]
  },
  {
   "cell_type": "code",
   "execution_count": 4,
   "metadata": {},
   "outputs": [],
   "source": [
    "# transaction based on quarter\n",
    "def Transaction_amount_count_quarter(df,quarter):\n",
    "    tacq = df[df['Quarter'] == quarter]\n",
    "    tacq.reset_index(drop=True,inplace=True)\n",
    "\n",
    "    tacq_gr = tacq.groupby(\"States\")[[\"Transaction_Count\",\"Transaction_Amount\"]].sum()\n",
    "    tacq_gr.reset_index(inplace=True)\n",
    "\n",
    "    amount_char = px.bar(tacq_gr,x=\"States\",y=\"Transaction_Amount\",title=f\"Transaction Amount for year {tacq['Years'].min()} {quarter} Quarter\",\n",
    "                        color_discrete_sequence=px.colors.sequential.Bluered_r,height=650,width=600)\n",
    "    amount_char.show()\n",
    "\n",
    "    count_char = px.bar(tacq_gr,x=\"States\",y=\"Transaction_Count\",title=f\"Transaction Count for year {tacq['Years'].min()} {quarter} Quarter\",\n",
    "                        color_discrete_sequence=px.colors.sequential.Bluered_r,height=650,width=600)\n",
    "    count_char.show()\n",
    "\n",
    "    map_url = \"https://gist.githubusercontent.com/jbrobst/56c13bbbf9d97d187fea01ca62ea5112/raw/e388c4cae20aa53cb5090210a42ebb9b765c0a36/india_states.geojson\"\n",
    "    res = requests.get(map_url)\n",
    "    res_data = json.loads(res.content)\n",
    "    state_name = []\n",
    "    for feature in res_data['features']:\n",
    "        state_name.append(feature['properties']['ST_NM'])\n",
    "    state_name.sort()\n",
    "\n",
    "    Ind_amount = px.choropleth(tacq_gr,geojson=res_data,locations=\"States\",featureidkey=\"properties.ST_NM\",\n",
    "                        color=\"Transaction_Amount\",color_continuous_scale=\"Rainbow\",\n",
    "                        range_color=(tacq_gr[\"Transaction_Amount\"].min(),tacq_gr[\"Transaction_Amount\"].max()),\n",
    "                        hover_name=\"States\",title=f\"Transaction Amount for year {tacq['Years'].min()} {quarter} Quarter\",fitbounds=\"locations\",height=650,width=600)\n",
    "    Ind_amount.update_geos(visible = False)\n",
    "    Ind_amount.show()\n",
    "\n",
    "    Ind_count = px.choropleth(tacq_gr,geojson=res_data,locations=\"States\",featureidkey=\"properties.ST_NM\",\n",
    "                        color=\"Transaction_Count\",color_continuous_scale=\"Rainbow\",\n",
    "                        range_color=(tacq_gr[\"Transaction_Count\"].min(),tacq_gr[\"Transaction_Count\"].max()),\n",
    "                        hover_name=\"States\",title=f\"Transaction Count for year {tacq['Years'].min()} {quarter} Quarter\",fitbounds=\"locations\",height=650,width=600)\n",
    "    Ind_count.update_geos(visible = False)\n",
    "    Ind_count.show()\n",
    "\n",
    "    return tacq"
   ]
  },
  {
   "cell_type": "code",
   "execution_count": 5,
   "metadata": {},
   "outputs": [],
   "source": [
    "# transaction based on transaction type\n",
    "def aggregated_Transaction_type(df,state):\n",
    "\n",
    "    tty = df[df['States'] == state]\n",
    "    tty.reset_index(drop=True, inplace=True)\n",
    "\n",
    "    tty_gr = tty.groupby(\"Transaction_Type\")[[\"Transaction_Count\",\"Transaction_Amount\"]].sum()\n",
    "    tty_gr.reset_index(inplace=True)\n",
    "\n",
    "    trans_char_pie_amount = px.pie(tty_gr,\"Transaction_Type\",\"Transaction_Amount\",width=600,title=f\"Transaction Amount for {state}\"\n",
    "                            ,hole=0.5)\n",
    "    trans_char_pie_amount.show()\n",
    "\n",
    "    trans_char_pie_count = px.pie(tty_gr,\"Transaction_Type\",\"Transaction_Count\",width=600,title=f\"Transaction Count for {state}\"\n",
    "                            ,hole=0.5)\n",
    "    trans_char_pie_count.show()"
   ]
  },
  {
   "cell_type": "code",
   "execution_count": 6,
   "metadata": {},
   "outputs": [],
   "source": [
    "# aggregated user year\n",
    "def aggregated_user_year(df,year):\n",
    "    auy = df[df['Years']== year]\n",
    "    auy.reset_index(drop=True,inplace=True)\n",
    "\n",
    "    auy_gr = pd.DataFrame(auy.groupby(\"brands\")[\"Transaction_Count\"].sum())\n",
    "    auy_gr.reset_index(inplace=True)\n",
    "\n",
    "    auy_bar = px.bar(auy_gr,x=\"brands\",y=\"Transaction_Count\",title=\"Transaction Count of Brands\",width=800,\n",
    "                    color_discrete_sequence=px.colors.sequential.Bluered_r)\n",
    "    auy_bar.show()\n",
    "\n",
    "    return auy"
   ]
  },
  {
   "cell_type": "code",
   "execution_count": 7,
   "metadata": {},
   "outputs": [],
   "source": [
    "# aggregated user quarter\n",
    "def aggregated_user_year_quarter(df,quarter):\n",
    "    auyq = df[df['Quarter']== quarter]\n",
    "    auyq.reset_index(drop=True,inplace=True)\n",
    "\n",
    "    auyq_gr = pd.DataFrame(auyq.groupby(\"brands\")[\"Transaction_Count\"].sum())\n",
    "    auyq_gr.reset_index(inplace=True)\n",
    "\n",
    "    auyq_bar = px.bar(auyq_gr,x=\"brands\",y=\"Transaction_Count\",title=f\"Transaction Count of Brands {quarter} Quarter\",width=800,\n",
    "                        color_discrete_sequence=px.colors.sequential.Bluered_r)\n",
    "    auyq_bar.show()\n",
    "    \n",
    "    return auyq"
   ]
  },
  {
   "cell_type": "code",
   "execution_count": 8,
   "metadata": {},
   "outputs": [],
   "source": [
    "# aggregated user year quarter states\n",
    "def aggregated_user_year_quarter_states(df,state):\n",
    "    auyqs = df[df[\"States\"] == state]\n",
    "    auyqs.reset_index(drop=True,inplace=True)\n",
    "\n",
    "    auyqs_char = px.pie(auyqs,\"brands\",\"Transaction_Count\",width=600,title=\"Transaction Count of State\",hover_data=\"percentage\",hole=0.5)\n",
    "    auyqs_char.show()"
   ]
  },
  {
   "cell_type": "code",
   "execution_count": 9,
   "metadata": {},
   "outputs": [],
   "source": [
    "# map insurance district\n",
    "def map_ins_dist(df,state):\n",
    "\n",
    "    tty = df[df['States'] == state]\n",
    "    tty.reset_index(drop=True, inplace=True)\n",
    "\n",
    "    tty_gr = tty.groupby(\"District\")[[\"Transaction_Count\",\"Transaction_Amount\"]].sum()\n",
    "    tty_gr.reset_index(inplace=True)\n",
    "\n",
    "    trans_char_bar_amount = px.bar(tty_gr,x=\"Transaction_Amount\",y=\"District\",orientation=\"h\",title=f\"District wise Transaction Amount Split for {state}\",color_discrete_sequence=px.colors.sequential.Bluered_r)\n",
    "    trans_char_bar_amount.show()\n",
    "\n",
    "    trans_char_bar_count = px.bar(tty_gr,x=\"Transaction_Count\",y=\"District\",orientation=\"h\",title=f\"District wise Transaction Count Split for {state}\",color_discrete_sequence=px.colors.sequential.Bluered_r)\n",
    "    trans_char_bar_count.show()"
   ]
  },
  {
   "cell_type": "code",
   "execution_count": 10,
   "metadata": {},
   "outputs": [],
   "source": [
    "# map user year\n",
    "def map_user_year(df,year):\n",
    "    muy = df[df['Years']== year]\n",
    "    muy.reset_index(drop=True,inplace=True)\n",
    "\n",
    "    muy_gr = pd.DataFrame(muy.groupby(\"States\")[[\"Registered_Users\",\"App_Opens\"]].sum())\n",
    "    muy_gr.reset_index(inplace=True)\n",
    "\n",
    "    muy_reg_char = px.line(muy_gr,x=\"States\",y=[\"Registered_Users\",\"App_Opens\"],title=f\"Registered Users and App Opens Count for {year}\",width=1000,height=800,markers=True)\n",
    "\n",
    "    muy_reg_char.show()\n",
    "\n",
    "    return muy"
   ]
  },
  {
   "cell_type": "code",
   "execution_count": 11,
   "metadata": {},
   "outputs": [],
   "source": [
    "# map user year quarter\n",
    "def map_user_year_quarter(df,quarter):\n",
    "    muyq = df[df['Quarter']== quarter]\n",
    "    muyq.reset_index(drop=True,inplace=True)\n",
    "\n",
    "    muyq_gr = pd.DataFrame(muyq.groupby(\"States\")[[\"Registered_Users\",\"App_Opens\"]].sum())\n",
    "    muyq_gr.reset_index(inplace=True)\n",
    "\n",
    "    muyq_reg_char = px.line(muyq_gr,x=\"States\",y=[\"Registered_Users\",\"App_Opens\"],title=f\"Registered Users and App Opens Chart for {df['Years'].min()} {quarter} Quarter\",width=1000,height=800,markers=True)\n",
    "\n",
    "    muyq_reg_char.show()\n",
    "\n",
    "    return muyq"
   ]
  },
  {
   "cell_type": "code",
   "execution_count": 12,
   "metadata": {},
   "outputs": [],
   "source": [
    "# map user year quarter states\n",
    "def map_user_year_quarter_state(df,state):\n",
    "    muyqs = df[df['States']== state]\n",
    "    muyqs.reset_index(drop=True,inplace=True)\n",
    "\n",
    "    muyqs_gr = pd.DataFrame(muyqs.groupby(\"District\")[[\"Registered_Users\",\"App_Opens\"]].sum())\n",
    "    muyqs_gr.reset_index(inplace=True)\n",
    "\n",
    "    muyqs_reg_char = px.bar(muyqs_gr,x=\"Registered_Users\",y=\"District\",orientation=\"h\",title=f\"District wise Split for Registered User\",color_discrete_sequence=px.colors.sequential.Bluered_r)\n",
    "    muyqs_reg_char.show()\n",
    "\n",
    "    muyqs_app_char = px.bar(muyqs_gr,x=\"App_Opens\",y=\"District\",orientation=\"h\",title=f\"District wise Split for App Opens\",color_discrete_sequence=px.colors.sequential.Bluered_r)\n",
    "    muyqs_app_char.show()\n"
   ]
  },
  {
   "cell_type": "code",
   "execution_count": 49,
   "metadata": {},
   "outputs": [],
   "source": [
    "# top insurance pincode\n",
    "def top_insu_tac_Y_P(df,state):\n",
    "    tiy = df[df['States']== state]\n",
    "    tiy.reset_index(drop=True,inplace=True)\n",
    "    \n",
    "    tiy_amount_char = px.bar(tiy,x=\"Quarter\",y=\"Transaction_Amount\",title=f\"Pincode wise Transaction Amount Split\",color_discrete_sequence=px.colors.sequential.thermal_r,hover_data=\"Pincodes\")\n",
    "    tiy_amount_char.show()\n",
    "\n",
    "    tiy_count_char = px.bar(tiy,x=\"Quarter\",y=\"Transaction_Count\",title=f\"Pincode wise Transaction Count Split\",color_discrete_sequence=px.colors.sequential.thermal_r,hover_data=\"Pincodes\")\n",
    "    tiy_count_char.show()\n"
   ]
  },
  {
   "cell_type": "code",
   "execution_count": 66,
   "metadata": {},
   "outputs": [],
   "source": [
    "# top user year \n",
    "def top_user_year(df,year):\n",
    "    tuy = df[df['Years']== year]\n",
    "    tuy.reset_index(drop=True,inplace=True)\n",
    "\n",
    "    tuy_gr = tuy.groupby([\"States\",\"Quarter\"])[[\"Registered_Users\"]].sum()\n",
    "    tuy_gr.reset_index(inplace=True)\n",
    "\n",
    "    tuy_char = px.bar(tuy_gr,x=\"States\",y=\"Registered_Users\",color=\"Quarter\",width=1000,height=800,\n",
    "                    color_discrete_sequence=px.colors.sequential.thermal_r,hover_name=\"States\",title=f\"Registered Users Across States for {year}\")\n",
    "\n",
    "    tuy_char.show()\n",
    "\n",
    "    return tuy"
   ]
  },
  {
   "cell_type": "code",
   "execution_count": null,
   "metadata": {},
   "outputs": [],
   "source": [
    "# top use year and pincode\n",
    "def top_user_year_pin(df,state):\n",
    "    tuys = df[df['States']== state]\n",
    "    tuys.reset_index(drop=True,inplace=True)\n",
    "\n",
    "    tuys_char = px.bar(tuys,x=\"Quarter\",y=\"Registered_Users\",color=\"Registered_Users\",width=1000,height=800,hover_data=\"Pincodes\",\n",
    "                    color_continuous_scale=px.colors.sequential.solar_r,title=f\"Registered Users Pincodes Split for {state}\")\n",
    "\n",
    "    tuys_char.show()\n"
   ]
  },
  {
   "cell_type": "markdown",
   "metadata": {},
   "source": [
    "### aggregated_insurance"
   ]
  },
  {
   "cell_type": "code",
   "execution_count": null,
   "metadata": {},
   "outputs": [],
   "source": [
    "tac_Y = Transaction_amount_count_year(aggregated_insurance,2022)"
   ]
  },
  {
   "cell_type": "code",
   "execution_count": null,
   "metadata": {},
   "outputs": [],
   "source": [
    "Transaction_amount_count_quarter(tac_Y,2)"
   ]
  },
  {
   "cell_type": "markdown",
   "metadata": {},
   "source": [
    "### aggregated transaction"
   ]
  },
  {
   "cell_type": "code",
   "execution_count": null,
   "metadata": {},
   "outputs": [],
   "source": [
    "aggre_trans_tac_Y = Transaction_amount_count_year(aggregated_transaction,2023)"
   ]
  },
  {
   "cell_type": "code",
   "execution_count": null,
   "metadata": {},
   "outputs": [],
   "source": [
    "aggregated_Transaction_type(aggre_trans_tac_Y,\"Puducherry\")"
   ]
  },
  {
   "cell_type": "code",
   "execution_count": null,
   "metadata": {},
   "outputs": [],
   "source": [
    "aggre_trans_tac_Y_Q = Transaction_amount_count_quarter(aggre_trans_tac_Y,3)"
   ]
  },
  {
   "cell_type": "code",
   "execution_count": null,
   "metadata": {},
   "outputs": [],
   "source": [
    "aggregated_Transaction_type(aggre_trans_tac_Y_Q,\"Puducherry\")"
   ]
  },
  {
   "cell_type": "markdown",
   "metadata": {},
   "source": [
    "### aggregated user"
   ]
  },
  {
   "cell_type": "code",
   "execution_count": null,
   "metadata": {},
   "outputs": [],
   "source": [
    "agg_user_Y = aggregated_user_year(aggregated_user,2020)"
   ]
  },
  {
   "cell_type": "code",
   "execution_count": null,
   "metadata": {},
   "outputs": [],
   "source": [
    "agg_user_Y_Q = aggregated_user_year_quarter(agg_user_Y,2)"
   ]
  },
  {
   "cell_type": "code",
   "execution_count": null,
   "metadata": {},
   "outputs": [],
   "source": [
    "agg_user_Y_Q_S = aggregated_user_year_quarter_states(agg_user_Y_Q,\"West Bengal\")"
   ]
  },
  {
   "cell_type": "markdown",
   "metadata": {},
   "source": [
    "### map insurance"
   ]
  },
  {
   "cell_type": "code",
   "execution_count": null,
   "metadata": {},
   "outputs": [],
   "source": [
    "map_ins_tac_Y = Transaction_amount_count_year(map_insurance,2023)"
   ]
  },
  {
   "cell_type": "code",
   "execution_count": null,
   "metadata": {},
   "outputs": [],
   "source": [
    "map_ins_dist(map_ins_tac_Y,\"Andaman & Nicobar\")"
   ]
  },
  {
   "cell_type": "code",
   "execution_count": null,
   "metadata": {},
   "outputs": [],
   "source": [
    "map_ins_tac_Y_Q = Transaction_amount_count_quarter(map_ins_tac_Y,3)"
   ]
  },
  {
   "cell_type": "code",
   "execution_count": null,
   "metadata": {},
   "outputs": [],
   "source": [
    "map_ins_dist(map_ins_tac_Y_Q,\"West Bengal\")"
   ]
  },
  {
   "cell_type": "code",
   "execution_count": null,
   "metadata": {},
   "outputs": [],
   "source": [
    "map_insurance"
   ]
  },
  {
   "cell_type": "markdown",
   "metadata": {},
   "source": [
    "### map transaction"
   ]
  },
  {
   "cell_type": "code",
   "execution_count": null,
   "metadata": {},
   "outputs": [],
   "source": [
    "map_trans_tac_Y = Transaction_amount_count_year(map_transaction,2022)\n",
    "map_trans_tac_Y"
   ]
  },
  {
   "cell_type": "code",
   "execution_count": null,
   "metadata": {},
   "outputs": [],
   "source": [
    "map_ins_dist(map_trans_tac_Y,\"Andaman & Nicobar\")"
   ]
  },
  {
   "cell_type": "code",
   "execution_count": null,
   "metadata": {},
   "outputs": [],
   "source": [
    "map_trans_tac_Y_Q = Transaction_amount_count_quarter(map_trans_tac_Y,3)"
   ]
  },
  {
   "cell_type": "code",
   "execution_count": null,
   "metadata": {},
   "outputs": [],
   "source": [
    "map_ins_dist(map_trans_tac_Y_Q,\"West Bengal\")"
   ]
  },
  {
   "cell_type": "markdown",
   "metadata": {},
   "source": [
    "### map user"
   ]
  },
  {
   "cell_type": "code",
   "execution_count": null,
   "metadata": {},
   "outputs": [],
   "source": [
    "map_user_Y = map_user_year(map_user,2023)"
   ]
  },
  {
   "cell_type": "code",
   "execution_count": null,
   "metadata": {},
   "outputs": [],
   "source": [
    "map_user_Y"
   ]
  },
  {
   "cell_type": "code",
   "execution_count": null,
   "metadata": {},
   "outputs": [],
   "source": [
    "map_user_Y_Q = map_user_year_quarter(map_user_Y,2)\n",
    "map_user_Y_Q"
   ]
  },
  {
   "cell_type": "code",
   "execution_count": null,
   "metadata": {},
   "outputs": [],
   "source": [
    "map_user_year_quarter_state(map_user_Y_Q,\"Andaman & Nicobar\")"
   ]
  },
  {
   "cell_type": "code",
   "execution_count": null,
   "metadata": {},
   "outputs": [],
   "source": [
    "map_user"
   ]
  },
  {
   "cell_type": "markdown",
   "metadata": {},
   "source": [
    "### top insurance"
   ]
  },
  {
   "cell_type": "code",
   "execution_count": null,
   "metadata": {},
   "outputs": [],
   "source": [
    "top_insu_tac_Y = Transaction_amount_count_year(top_insurance,2023)"
   ]
  },
  {
   "cell_type": "code",
   "execution_count": null,
   "metadata": {},
   "outputs": [],
   "source": [
    "top_insu_tac_Y"
   ]
  },
  {
   "cell_type": "code",
   "execution_count": null,
   "metadata": {},
   "outputs": [],
   "source": [
    "top_insu_tac_Y_P(top_insu_tac_Y,\"West Bengal\")"
   ]
  },
  {
   "cell_type": "code",
   "execution_count": null,
   "metadata": {},
   "outputs": [],
   "source": [
    "top_insu_tac_Y_Q = Transaction_amount_count_quarter(top_insu_tac_Y,3)"
   ]
  },
  {
   "cell_type": "code",
   "execution_count": null,
   "metadata": {},
   "outputs": [],
   "source": [
    "top_insurance"
   ]
  },
  {
   "cell_type": "markdown",
   "metadata": {},
   "source": [
    "### top transaction"
   ]
  },
  {
   "cell_type": "code",
   "execution_count": null,
   "metadata": {},
   "outputs": [],
   "source": [
    "top_trans_tac_Y = Transaction_amount_count_year(top_transaction,2023)"
   ]
  },
  {
   "cell_type": "code",
   "execution_count": null,
   "metadata": {},
   "outputs": [],
   "source": [
    "top_insu_tac_Y_P(top_trans_tac_Y,\"West Bengal\")"
   ]
  },
  {
   "cell_type": "code",
   "execution_count": null,
   "metadata": {},
   "outputs": [],
   "source": [
    "top_trans_tac_Y_Q = Transaction_amount_count_quarter(top_trans_tac_Y,3)"
   ]
  },
  {
   "cell_type": "code",
   "execution_count": null,
   "metadata": {},
   "outputs": [],
   "source": [
    "top_transaction"
   ]
  },
  {
   "cell_type": "markdown",
   "metadata": {},
   "source": [
    "### top user"
   ]
  },
  {
   "cell_type": "code",
   "execution_count": null,
   "metadata": {},
   "outputs": [],
   "source": [
    "top_user_Y = top_user_year(top_user,2022)\n",
    "top_user_Y"
   ]
  },
  {
   "cell_type": "code",
   "execution_count": null,
   "metadata": {},
   "outputs": [],
   "source": [
    "top_user_year_pin(top_user_Y,\"West Bengal\")"
   ]
  },
  {
   "cell_type": "markdown",
   "metadata": {},
   "source": [
    "### Top Charts Questions "
   ]
  },
  {
   "cell_type": "code",
   "execution_count": 99,
   "metadata": {},
   "outputs": [],
   "source": [
    "def top_chart_transaction_amount(table_name):\n",
    "    db = psycopg2.connect(host = 'localhost',\n",
    "                        user = 'postgres',\n",
    "                        port = '5432',\n",
    "                        database = 'PhonePe',\n",
    "                        password = '1177')\n",
    "\n",
    "    cursor = db.cursor()\n",
    "\n",
    "    q1 = f'''SELECT states, SUM(transaction_amount) AS Transaction FROM {table_name}\n",
    "            GROUP BY states\n",
    "            ORDER BY Transaction DESC\n",
    "            LIMIT 10;'''\n",
    "\n",
    "    cursor.execute(q1)\n",
    "    table = cursor.fetchall()\n",
    "    db.commit()\n",
    "\n",
    "    df_q1 = pd.DataFrame(table,columns=(\"States\",\"Transaction Amount\"))\n",
    "    df_q1_char = px.bar(df_q1,x=\"States\",y=\"Transaction Amount\",title=f\"Top 10 States with Highest Transaction on {table_name}\",color_discrete_sequence=px.colors.sequential.Bluered_r,\n",
    "                    hover_name=\"States\",height=650,width=600)\n",
    "    df_q1_char.show()\n",
    "\n",
    "    q2 = f'''SELECT states, SUM(transaction_amount) AS Transaction FROM {table_name}\n",
    "            GROUP BY states\n",
    "            ORDER BY Transaction\n",
    "            LIMIT 10;'''\n",
    "\n",
    "    cursor.execute(q2)\n",
    "    table = cursor.fetchall()\n",
    "    db.commit()\n",
    "\n",
    "    df_q2 = pd.DataFrame(table,columns=(\"States\",\"Transaction Amount\"))\n",
    "    df_q2_char = px.bar(df_q2,x=\"States\",y=\"Transaction Amount\",title=f\"Top 10 States with Least Transaction on {table_name}\",color_discrete_sequence=px.colors.sequential.thermal_r,\n",
    "                    hover_name=\"States\",height=650,width=600)\n",
    "    df_q2_char.show()\n",
    "\n",
    "    q3 = f'''SELECT states, AVG(transaction_amount) AS Transaction FROM {table_name}\n",
    "            GROUP BY states\n",
    "            ORDER BY Transaction;\n",
    "            '''\n",
    "\n",
    "    cursor.execute(q3)\n",
    "    table = cursor.fetchall()\n",
    "    db.commit()\n",
    "\n",
    "    df_q3 = pd.DataFrame(table,columns=(\"States\",\"Transaction Amount\"))\n",
    "    df_q3_char = px.bar(df_q3,x=\"Transaction Amount\",y=\"States\",title=f\"Average Trend of Transaction on {table_name}\",color_discrete_sequence=px.colors.sequential.Agsunset_r,\n",
    "                    hover_name=\"States\",height=650,width=600,orientation=\"h\")\n",
    "    df_q3_char.show()\n"
   ]
  },
  {
   "cell_type": "code",
   "execution_count": 107,
   "metadata": {},
   "outputs": [],
   "source": [
    "def top_chart_transaction_count(table_name):\n",
    "    db = psycopg2.connect(host = 'localhost',\n",
    "                        user = 'postgres',\n",
    "                        port = '5432',\n",
    "                        database = 'PhonePe',\n",
    "                        password = '1177')\n",
    "\n",
    "    cursor = db.cursor()\n",
    "\n",
    "    q1 = f'''SELECT states, SUM(transaction_count) AS Transaction FROM {table_name}\n",
    "            GROUP BY states\n",
    "            ORDER BY Transaction DESC\n",
    "            LIMIT 10;'''\n",
    "\n",
    "    cursor.execute(q1)\n",
    "    table = cursor.fetchall()\n",
    "    db.commit()\n",
    "\n",
    "    df_q1 = pd.DataFrame(table,columns=(\"States\",\"Transaction Count\"))\n",
    "    df_q1_char = px.bar(df_q1,x=\"States\",y=\"Transaction Count\",title=f\"Top 10 States with Highest Transaction Count on {table_name}\",color_discrete_sequence=px.colors.sequential.Bluered_r,\n",
    "                    hover_name=\"States\",height=800,width=1000)\n",
    "    df_q1_char.show()\n",
    "\n",
    "    q2 = f'''SELECT states, SUM(transaction_count) AS Transaction FROM {table_name}\n",
    "            GROUP BY states\n",
    "            ORDER BY Transaction\n",
    "            LIMIT 10;'''\n",
    "\n",
    "    cursor.execute(q2)\n",
    "    table = cursor.fetchall()\n",
    "    db.commit()\n",
    "\n",
    "    df_q2 = pd.DataFrame(table,columns=(\"States\",\"Transaction Count\"))\n",
    "    df_q2_char = px.bar(df_q2,x=\"States\",y=\"Transaction Count\",title=f\"Top 10 States with Least Transaction Count on {table_name}\",color_discrete_sequence=px.colors.sequential.thermal_r,\n",
    "                    hover_name=\"States\",height=800,width=1000)\n",
    "    df_q2_char.show()\n",
    "\n",
    "    q3 = f'''SELECT states, AVG(transaction_count) AS Transaction FROM {table_name}\n",
    "            GROUP BY states\n",
    "            ORDER BY Transaction;\n",
    "            '''\n",
    "\n",
    "    cursor.execute(q3)\n",
    "    table = cursor.fetchall()\n",
    "    db.commit()\n",
    "\n",
    "    df_q3 = pd.DataFrame(table,columns=(\"States\",\"Transaction Count\"))\n",
    "    df_q3_char = px.bar(df_q3,x=\"Transaction Count\",y=\"States\",title=f\"Average Trend of Transaction Count on {table_name}\",color_discrete_sequence=px.colors.sequential.Agsunset_r,\n",
    "                    hover_name=\"States\",height=800,width=1000,orientation=\"h\")\n",
    "    df_q3_char.show()\n"
   ]
  },
  {
   "cell_type": "code",
   "execution_count": null,
   "metadata": {},
   "outputs": [],
   "source": [
    "top_chart_transaction_count(\"map_insurance\")"
   ]
  },
  {
   "cell_type": "code",
   "execution_count": 15,
   "metadata": {},
   "outputs": [],
   "source": [
    "def top_chart_reg_user(table_name,state):\n",
    "    db = psycopg2.connect(host = 'localhost',\n",
    "                        user = 'postgres',\n",
    "                        port = '5432',\n",
    "                        database = 'PhonePe',\n",
    "                        password = '1177')\n",
    "\n",
    "    cursor = db.cursor()\n",
    "\n",
    "    q1 = f'''SELECT district,SUM(registered_user) AS Registered_Users FROM {table_name}\n",
    "                WHERE states = '{state}'\n",
    "                GROUP BY district\n",
    "                ORDER BY Registered_Users DESC\n",
    "                LIMIT 10\n",
    "                ;'''\n",
    "\n",
    "    cursor.execute(q1)\n",
    "    table = cursor.fetchall()\n",
    "    db.commit()\n",
    "\n",
    "    df_q1 = pd.DataFrame(table,columns=(\"District\",\"Registered Users\"))\n",
    "    df_q1_char = px.bar(df_q1,x=\"District\",y=\"Registered Users\",title=f\"Top 10 States with Highest Registered Users on {table_name}\",color_discrete_sequence=px.colors.sequential.Bluered_r,\n",
    "                    hover_name=\"District\",height=650,width=600)\n",
    "    df_q1_char.show()\n",
    "\n",
    "    q2 = f'''SELECT district,SUM(registered_user) AS Registered_Users FROM {table_name}\n",
    "                WHERE states = '{state}'\n",
    "                GROUP BY district\n",
    "                ORDER BY Registered_Users\n",
    "                LIMIT 10;'''\n",
    "\n",
    "    cursor.execute(q2)\n",
    "    table = cursor.fetchall()\n",
    "    db.commit()\n",
    "\n",
    "    df_q2 = pd.DataFrame(table,columns=(\"District\",\"Registered Users\"))\n",
    "    df_q2_char = px.bar(df_q2,x=\"District\",y=\"Registered Users\",title=f\"Top 10 States with Least Registered Users on {table_name}\",color_discrete_sequence=px.colors.sequential.thermal_r,\n",
    "                    hover_name=\"District\",height=650,width=600)\n",
    "    df_q2_char.show()\n",
    "\n",
    "    q3 = f'''SELECT district,SUM(registered_user) AS Registered_Users FROM {table_name}\n",
    "                WHERE states = '{state}'\n",
    "                GROUP BY district\n",
    "                ORDER BY Registered_Users\n",
    "                ;'''\n",
    "\n",
    "    cursor.execute(q3)\n",
    "    table = cursor.fetchall()\n",
    "    db.commit()\n",
    "\n",
    "    df_q3 = pd.DataFrame(table,columns=(\"District\",\"Registered Users\"))\n",
    "    df_q3_char = px.bar(df_q3,x=\"Registered Users\",y=\"District\",title=f\"Average Trend of Registered Users on {table_name}\",color_discrete_sequence=px.colors.sequential.Agsunset_r,\n",
    "                    hover_name=\"District\",height=650,width=600,orientation=\"h\")\n",
    "    df_q3_char.show()\n"
   ]
  },
  {
   "cell_type": "code",
   "execution_count": null,
   "metadata": {},
   "outputs": [],
   "source": [
    "top_chart_reg_user(\"map_user\",'West Bengal')"
   ]
  },
  {
   "cell_type": "code",
   "execution_count": 19,
   "metadata": {},
   "outputs": [],
   "source": [
    "def top_chart_app_opens_user(table_name,state):\n",
    "    db = psycopg2.connect(host = 'localhost',\n",
    "                        user = 'postgres',\n",
    "                        port = '5432',\n",
    "                        database = 'PhonePe',\n",
    "                        password = '1177')\n",
    "\n",
    "    cursor = db.cursor()\n",
    "\n",
    "    q1 = f'''SELECT district,SUM(app_opens) AS App_Opens FROM {table_name}\n",
    "                WHERE states = '{state}'\n",
    "                GROUP BY district\n",
    "                ORDER BY app_opens DESC\n",
    "                LIMIT 10\n",
    "                ;'''\n",
    "\n",
    "    cursor.execute(q1)\n",
    "    table = cursor.fetchall()\n",
    "    db.commit()\n",
    "\n",
    "    df_q1 = pd.DataFrame(table,columns=(\"District\",\"App Opens\"))\n",
    "    df_q1_char = px.bar(df_q1,x=\"District\",y=\"App Opens\",title=f\"Top 10 States with Highest App Opens on {table_name}\",color_discrete_sequence=px.colors.sequential.Bluered_r,\n",
    "                    hover_name=\"District\",height=650,width=600)\n",
    "    df_q1_char.show()\n",
    "\n",
    "    q2 = f'''SELECT district,SUM(app_opens) AS App_Opens FROM {table_name}\n",
    "                WHERE states = '{state}'\n",
    "                GROUP BY district\n",
    "                ORDER BY app_opens\n",
    "                LIMIT 10;'''\n",
    "\n",
    "    cursor.execute(q2)\n",
    "    table = cursor.fetchall()\n",
    "    db.commit()\n",
    "\n",
    "    df_q2 = pd.DataFrame(table,columns=(\"District\",\"App Opens\"))\n",
    "    df_q2_char = px.bar(df_q2,x=\"District\",y=\"App Opens\",title=f\"Top 10 States with Least App Opens on {table_name}\",color_discrete_sequence=px.colors.sequential.thermal_r,\n",
    "                    hover_name=\"District\",height=650,width=600)\n",
    "    df_q2_char.show()\n",
    "\n",
    "    q3 = f'''SELECT district,SUM(app_opens) AS App_Opens FROM {table_name}\n",
    "                WHERE states = '{state}'\n",
    "                GROUP BY district\n",
    "                ORDER BY app_opens\n",
    "                ;'''\n",
    "\n",
    "    cursor.execute(q3)\n",
    "    table = cursor.fetchall()\n",
    "    db.commit()\n",
    "\n",
    "    df_q3 = pd.DataFrame(table,columns=(\"District\",\"App Opens\"))\n",
    "    df_q3_char = px.bar(df_q3,x=\"App Opens\",y=\"District\",title=f\"Average Trend of App Opens on {table_name}\",color_discrete_sequence=px.colors.sequential.Agsunset_r,\n",
    "                    hover_name=\"District\",height=650,width=600,orientation=\"h\")\n",
    "    df_q3_char.show()\n"
   ]
  },
  {
   "cell_type": "code",
   "execution_count": null,
   "metadata": {},
   "outputs": [],
   "source": [
    "top_chart_app_opens_user('map_user','Tamil Nadu')"
   ]
  },
  {
   "cell_type": "code",
   "execution_count": 22,
   "metadata": {},
   "outputs": [],
   "source": [
    "def top_chart_reg_user_map(table_name):\n",
    "    db = psycopg2.connect(host = 'localhost',\n",
    "                        user = 'postgres',\n",
    "                        port = '5432',\n",
    "                        database = 'PhonePe',\n",
    "                        password = '1177')\n",
    "\n",
    "    cursor = db.cursor()\n",
    "\n",
    "    q1 = f'''SELECT states,SUM(registered_users) AS registered_users FROM {table_name}\n",
    "                GROUP BY states\n",
    "                ORDER BY registered_users DESC\n",
    "                LIMIT 10;'''\n",
    "\n",
    "    cursor.execute(q1)\n",
    "    table = cursor.fetchall()\n",
    "    db.commit()\n",
    "\n",
    "    df_q1 = pd.DataFrame(table,columns=(\"States\",\"Registered Users\"))\n",
    "    df_q1_char = px.bar(df_q1,x=\"States\",y=\"Registered Users\",title=f\"Top 10 States with Highest Registered Users on {table_name}\",color_discrete_sequence=px.colors.sequential.Bluered_r,\n",
    "                    hover_name=\"States\",height=650,width=600)\n",
    "    df_q1_char.show()\n",
    "\n",
    "    q2 = f'''SELECT states,SUM(registered_users) AS registered_users FROM {table_name}\n",
    "                GROUP BY states\n",
    "                ORDER BY registered_users\n",
    "                LIMIT 10;'''\n",
    "\n",
    "    cursor.execute(q2)\n",
    "    table = cursor.fetchall()\n",
    "    db.commit()\n",
    "\n",
    "    df_q2 = pd.DataFrame(table,columns=(\"States\",\"Registered Users\"))\n",
    "    df_q2_char = px.bar(df_q2,x=\"States\",y=\"Registered Users\",title=f\"Top 10 States with Least Registered Users on {table_name}\",color_discrete_sequence=px.colors.sequential.thermal_r,\n",
    "                    hover_name=\"States\",height=650,width=600)\n",
    "    df_q2_char.show()\n",
    "\n",
    "    q3 = f'''SELECT states,AVG(registered_users) AS registered_users FROM {table_name}\n",
    "                GROUP BY states\n",
    "                ORDER BY registered_users\n",
    "                ;'''\n",
    "\n",
    "    cursor.execute(q3)\n",
    "    table = cursor.fetchall()\n",
    "    db.commit()\n",
    "\n",
    "    df_q3 = pd.DataFrame(table,columns=(\"States\",\"Registered Users\"))\n",
    "    df_q3_char = px.bar(df_q3,x=\"Registered Users\",y=\"States\",title=f\"Average Trend of Registered Users on {table_name}\",color_discrete_sequence=px.colors.sequential.Agsunset_r,\n",
    "                    hover_name=\"States\",height=650,width=600,orientation=\"h\")\n",
    "    df_q3_char.show()\n"
   ]
  },
  {
   "cell_type": "code",
   "execution_count": null,
   "metadata": {},
   "outputs": [],
   "source": [
    "top_chart_reg_user_map(\"top_user\")"
   ]
  },
  {
   "cell_type": "code",
   "execution_count": 8,
   "metadata": {},
   "outputs": [],
   "source": [
    "def top_chart_transaction_type(table_name,transaction_type):\n",
    "    db = psycopg2.connect(host = 'localhost',\n",
    "                        user = 'postgres',\n",
    "                         port = '5432',\n",
    "                        database = 'PhonePe',\n",
    "                        password = '1177')\n",
    "\n",
    "    cursor = db.cursor()\n",
    "\n",
    "    q1 = f'''SELECT states,SUM(transaction_amount) AS total_amount FROM {table_name}\n",
    "                WHERE transaction_type = '{transaction_type}'\n",
    "                GROUP BY states\n",
    "                ORDER BY total_amount DESC\n",
    "                LIMIT 5;\n",
    "                '''\n",
    "\n",
    "    cursor.execute(q1)\n",
    "    table = cursor.fetchall()\n",
    "    db.commit()\n",
    "\n",
    "    df_q1 = pd.DataFrame(table,columns=(\"States\",\"Transaction Amount\"))\n",
    "    df_q1_char = px.bar(df_q1,x=\"States\",y=\"Transaction Amount\",title=f\"Top 10 States with Highest Transaction on {table_name}\",color_discrete_sequence=px.colors.sequential.Bluered_r,\n",
    "                    hover_name=\"States\",height=650,width=600)\n",
    "    df_q1_char.show()"
   ]
  },
  {
   "cell_type": "code",
   "execution_count": null,
   "metadata": {},
   "outputs": [],
   "source": [
    "top_chart_transaction_type(\"aggregated_transaction\",'Peer-to-peer payments')"
   ]
  },
  {
   "cell_type": "code",
   "execution_count": 6,
   "metadata": {},
   "outputs": [],
   "source": [
    "def top_chart_district(table_name):\n",
    "    db = psycopg2.connect(host = 'localhost',\n",
    "                        user = 'postgres',\n",
    "                         port = '5432',\n",
    "                        database = 'PhonePe',\n",
    "                        password = '1177')\n",
    "\n",
    "    cursor = db.cursor()\n",
    "\n",
    "    q1 = f'''SELECT district,states,SUM(transaction_amount) AS total_transaction\n",
    "                FROM {table_name}\n",
    "                GROUP BY district,states\n",
    "                ORDER BY total_transaction DESC\n",
    "                LIMIT 10;\n",
    "                '''\n",
    "\n",
    "    cursor.execute(q1)\n",
    "    table = cursor.fetchall()\n",
    "    db.commit()\n",
    "\n",
    "    df_q1 = pd.DataFrame(table,columns=(\"District\",\"States\",\"Transaction Amount\"))\n",
    "    df_q1_char = px.bar(df_q1,x=\"District\",y=\"Transaction Amount\",title=f\"Top 10 Districts with Highest Transaction on {table_name}\",color_discrete_sequence=px.colors.sequential.Bluered_r,\n",
    "                    hover_name=\"States\",height=800,width=800)\n",
    "    df_q1_char.show()\n",
    "\n",
    "    q2 = f'''SELECT district,states,SUM(transaction_amount) AS total_transaction\n",
    "                FROM {table_name}\n",
    "                GROUP BY district,states\n",
    "                ORDER BY total_transaction\n",
    "                LIMIT 10;\n",
    "                '''\n",
    "\n",
    "    cursor.execute(q2)\n",
    "    table = cursor.fetchall()\n",
    "    db.commit()\n",
    "\n",
    "    df_q1 = pd.DataFrame(table,columns=(\"District\",\"States\",\"Transaction Amount\"))\n",
    "    df_q1_char = px.bar(df_q1,x=\"District\",y=\"Transaction Amount\",title=f\"Top 10 Districts with Least Transaction on {table_name}\",color_discrete_sequence=px.colors.sequential.Bluered_r,\n",
    "                    hover_name=\"States\",height=800,width=800)\n",
    "    df_q1_char.show()"
   ]
  },
  {
   "cell_type": "code",
   "execution_count": null,
   "metadata": {},
   "outputs": [],
   "source": [
    "top_chart_district(\"map_transaction\")"
   ]
  },
  {
   "cell_type": "code",
   "execution_count": 26,
   "metadata": {},
   "outputs": [],
   "source": [
    "def top_chart_brands(table_name):\n",
    "    db = psycopg2.connect(host = 'localhost',\n",
    "                        user = 'postgres',\n",
    "                         port = '5432',\n",
    "                        database = 'PhonePe',\n",
    "                        password = '1177')\n",
    "\n",
    "    cursor = db.cursor()\n",
    "\n",
    "    q1 = f'''SELECT\n",
    "                states,\n",
    "                brands,\n",
    "                total_transaction\n",
    "            FROM (\n",
    "                SELECT\n",
    "                    states,\n",
    "                    brands,\n",
    "                    SUM(transaction_count) AS total_transaction,\n",
    "                    ROW_NUMBER() OVER (PARTITION BY states ORDER BY SUM(transaction_count) DESC) AS rank\n",
    "                FROM\n",
    "                    {table_name}\n",
    "                GROUP BY\n",
    "                    states, brands\n",
    "            ) ranked_data\n",
    "            WHERE rank = 1\n",
    "            ORDER BY total_transaction DESC;\n",
    "\n",
    "                            '''\n",
    "\n",
    "    cursor.execute(q1)\n",
    "    table = cursor.fetchall()\n",
    "    db.commit()\n",
    "\n",
    "    df_q1 = pd.DataFrame(table,columns=(\"States\",\"brands\",\"Total Transaction\"))\n",
    "    df_q1_char = px.bar(df_q1,x=\"States\",y=\"Total Transaction\",title=f\"Top 10 States and the respective Phone Brands used to make Transaction\",color_discrete_sequence=px.colors.sequential.Rainbow_r,\n",
    "                    hover_name=\"brands\",height=800,width=800,color=\"brands\")\n",
    "    df_q1_char.show()\n",
    "    "
   ]
  },
  {
   "cell_type": "code",
   "execution_count": null,
   "metadata": {},
   "outputs": [],
   "source": [
    "top_chart_district(\"aggregated_user\")"
   ]
  },
  {
   "cell_type": "code",
   "execution_count": 31,
   "metadata": {},
   "outputs": [
    {
     "data": {
      "text/html": [
       "<div>\n",
       "<style scoped>\n",
       "    .dataframe tbody tr th:only-of-type {\n",
       "        vertical-align: middle;\n",
       "    }\n",
       "\n",
       "    .dataframe tbody tr th {\n",
       "        vertical-align: top;\n",
       "    }\n",
       "\n",
       "    .dataframe thead th {\n",
       "        text-align: right;\n",
       "    }\n",
       "</style>\n",
       "<table border=\"1\" class=\"dataframe\">\n",
       "  <thead>\n",
       "    <tr style=\"text-align: right;\">\n",
       "      <th></th>\n",
       "      <th>States</th>\n",
       "      <th>Years</th>\n",
       "      <th>Quarter</th>\n",
       "      <th>District</th>\n",
       "      <th>Transaction_Count</th>\n",
       "      <th>Transaction_Amount</th>\n",
       "    </tr>\n",
       "  </thead>\n",
       "  <tbody>\n",
       "    <tr>\n",
       "      <th>0</th>\n",
       "      <td>Andaman &amp; Nicobar</td>\n",
       "      <td>2018</td>\n",
       "      <td>1</td>\n",
       "      <td>north and middle andaman district</td>\n",
       "      <td>442</td>\n",
       "      <td>931663</td>\n",
       "    </tr>\n",
       "    <tr>\n",
       "      <th>1</th>\n",
       "      <td>Andaman &amp; Nicobar</td>\n",
       "      <td>2018</td>\n",
       "      <td>1</td>\n",
       "      <td>south andaman district</td>\n",
       "      <td>5688</td>\n",
       "      <td>12560249</td>\n",
       "    </tr>\n",
       "    <tr>\n",
       "      <th>2</th>\n",
       "      <td>Andaman &amp; Nicobar</td>\n",
       "      <td>2018</td>\n",
       "      <td>1</td>\n",
       "      <td>nicobars district</td>\n",
       "      <td>528</td>\n",
       "      <td>1139849</td>\n",
       "    </tr>\n",
       "    <tr>\n",
       "      <th>3</th>\n",
       "      <td>Andaman &amp; Nicobar</td>\n",
       "      <td>2018</td>\n",
       "      <td>2</td>\n",
       "      <td>north and middle andaman district</td>\n",
       "      <td>825</td>\n",
       "      <td>1317863</td>\n",
       "    </tr>\n",
       "    <tr>\n",
       "      <th>4</th>\n",
       "      <td>Andaman &amp; Nicobar</td>\n",
       "      <td>2018</td>\n",
       "      <td>2</td>\n",
       "      <td>south andaman district</td>\n",
       "      <td>9395</td>\n",
       "      <td>23948236</td>\n",
       "    </tr>\n",
       "    <tr>\n",
       "      <th>...</th>\n",
       "      <td>...</td>\n",
       "      <td>...</td>\n",
       "      <td>...</td>\n",
       "      <td>...</td>\n",
       "      <td>...</td>\n",
       "      <td>...</td>\n",
       "    </tr>\n",
       "    <tr>\n",
       "      <th>19023</th>\n",
       "      <td>West Bengal</td>\n",
       "      <td>2024</td>\n",
       "      <td>2</td>\n",
       "      <td>nadia district</td>\n",
       "      <td>49543213</td>\n",
       "      <td>85889425747</td>\n",
       "    </tr>\n",
       "    <tr>\n",
       "      <th>19024</th>\n",
       "      <td>West Bengal</td>\n",
       "      <td>2024</td>\n",
       "      <td>2</td>\n",
       "      <td>birbhum district</td>\n",
       "      <td>29485233</td>\n",
       "      <td>49694427747</td>\n",
       "    </tr>\n",
       "    <tr>\n",
       "      <th>19025</th>\n",
       "      <td>West Bengal</td>\n",
       "      <td>2024</td>\n",
       "      <td>2</td>\n",
       "      <td>purba medinipur district</td>\n",
       "      <td>55342585</td>\n",
       "      <td>98897892001</td>\n",
       "    </tr>\n",
       "    <tr>\n",
       "      <th>19026</th>\n",
       "      <td>West Bengal</td>\n",
       "      <td>2024</td>\n",
       "      <td>2</td>\n",
       "      <td>maldah district</td>\n",
       "      <td>52271735</td>\n",
       "      <td>90432057728</td>\n",
       "    </tr>\n",
       "    <tr>\n",
       "      <th>19027</th>\n",
       "      <td>West Bengal</td>\n",
       "      <td>2024</td>\n",
       "      <td>2</td>\n",
       "      <td>darjiling district</td>\n",
       "      <td>22244510</td>\n",
       "      <td>34045403846</td>\n",
       "    </tr>\n",
       "  </tbody>\n",
       "</table>\n",
       "<p>19028 rows × 6 columns</p>\n",
       "</div>"
      ],
      "text/plain": [
       "                  States  Years  Quarter                           District  \\\n",
       "0      Andaman & Nicobar   2018        1  north and middle andaman district   \n",
       "1      Andaman & Nicobar   2018        1             south andaman district   \n",
       "2      Andaman & Nicobar   2018        1                  nicobars district   \n",
       "3      Andaman & Nicobar   2018        2  north and middle andaman district   \n",
       "4      Andaman & Nicobar   2018        2             south andaman district   \n",
       "...                  ...    ...      ...                                ...   \n",
       "19023        West Bengal   2024        2                     nadia district   \n",
       "19024        West Bengal   2024        2                   birbhum district   \n",
       "19025        West Bengal   2024        2           purba medinipur district   \n",
       "19026        West Bengal   2024        2                    maldah district   \n",
       "19027        West Bengal   2024        2                 darjiling district   \n",
       "\n",
       "       Transaction_Count  Transaction_Amount  \n",
       "0                    442              931663  \n",
       "1                   5688            12560249  \n",
       "2                    528             1139849  \n",
       "3                    825             1317863  \n",
       "4                   9395            23948236  \n",
       "...                  ...                 ...  \n",
       "19023           49543213         85889425747  \n",
       "19024           29485233         49694427747  \n",
       "19025           55342585         98897892001  \n",
       "19026           52271735         90432057728  \n",
       "19027           22244510         34045403846  \n",
       "\n",
       "[19028 rows x 6 columns]"
      ]
     },
     "execution_count": 31,
     "metadata": {},
     "output_type": "execute_result"
    }
   ],
   "source": [
    "map_transaction"
   ]
  }
 ],
 "metadata": {
  "kernelspec": {
   "display_name": ".venv",
   "language": "python",
   "name": "python3"
  },
  "language_info": {
   "codemirror_mode": {
    "name": "ipython",
    "version": 3
   },
   "file_extension": ".py",
   "mimetype": "text/x-python",
   "name": "python",
   "nbconvert_exporter": "python",
   "pygments_lexer": "ipython3",
   "version": "3.11.9"
  }
 },
 "nbformat": 4,
 "nbformat_minor": 2
}
